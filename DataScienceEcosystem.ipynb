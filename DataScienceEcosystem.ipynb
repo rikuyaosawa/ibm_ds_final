{
 "cells": [
  {
   "cell_type": "markdown",
   "id": "be13a52f-33bb-4862-a89d-28775fe9e6ee",
   "metadata": {},
   "source": [
    "<h1>Data Science Tools and Ecosystem</h1>"
   ]
  },
  {
   "cell_type": "markdown",
   "id": "8bbccf0e-b8cb-4d02-af09-a0d09fb47e84",
   "metadata": {},
   "source": [
    "In this notebook, Data Science and Ecosystem are summarized."
   ]
  },
  {
   "cell_type": "markdown",
   "id": "36e8aca6-aab6-415d-ae90-98abbe0e5be3",
   "metadata": {},
   "source": [
    "<b>Objectives:</b>\n",
    "<ul>\n",
    "    <li>Some of the popular languages that Data Scientists use</li>\n",
    "    <li>Some of the commonly used libraries used by Data Scientists</li>\n",
    "    <li>Examples of Arithmetic expressions in Python</li>\n",
    "</ul>"
   ]
  },
  {
   "cell_type": "markdown",
   "id": "467eaefd-55de-473a-a22d-185a5ba5def8",
   "metadata": {},
   "source": [
    "Some of the pupular languages that Data Scientists use are:\n",
    "<ol>\n",
    "    <li>Python</li>\n",
    "    <li>R</li>\n",
    "    <li>SQL</li>\n",
    "</ol>"
   ]
  },
  {
   "cell_type": "markdown",
   "id": "c6fd4918-06a1-4865-95ae-aeabeecf3a2f",
   "metadata": {},
   "source": [
    "Some of the commonly used libraries used by Data Scientists include:\n",
    "<ol>\n",
    "    <li>Pandas</li>\n",
    "    <li>dplyr</li>\n",
    "    <li>Hadoop</li>\n",
    "</ol>"
   ]
  },
  {
   "cell_type": "markdown",
   "id": "49c39fd5-d011-4deb-864e-5f0eed19142c",
   "metadata": {},
   "source": [
    "|Data Science Tools|\n",
    "|---|\n",
    "|Jupyter Notebook|\n",
    "|RStudio|\n",
    "|Apache Zeppelin|"
   ]
  },
  {
   "cell_type": "markdown",
   "id": "9ebde6ad-e9ec-4490-8312-431930ae542c",
   "metadata": {},
   "source": [
    "<h3>Below are a few examples of evaluating arithmetic expressions in Python.</h3>"
   ]
  },
  {
   "cell_type": "code",
   "execution_count": 1,
   "id": "f6810edb-94d4-4b4b-90b0-b5a11364f2e0",
   "metadata": {},
   "outputs": [
    {
     "data": {
      "text/plain": [
       "17"
      ]
     },
     "execution_count": 1,
     "metadata": {},
     "output_type": "execute_result"
    }
   ],
   "source": [
    "# This is a simple arithmetic expression to multiply then add integers\n",
    "(3 * 4) + 5"
   ]
  },
  {
   "cell_type": "code",
   "execution_count": 2,
   "id": "0f6a4141-2bcf-41ea-bcfe-fe8f9787ce64",
   "metadata": {},
   "outputs": [
    {
     "data": {
      "text/plain": [
       "3.3333333333333335"
      ]
     },
     "execution_count": 2,
     "metadata": {},
     "output_type": "execute_result"
    }
   ],
   "source": [
    "# This will convert 200 minutes to hours by dividing by 60\n",
    "minutes = 200\n",
    "minutes / 60"
   ]
  },
  {
   "cell_type": "markdown",
   "id": "796eb8e1-87c2-4148-9658-15b6c1083530",
   "metadata": {},
   "source": [
    "<h2>Author</h2>\n",
    "Rikuya Osawa"
   ]
  }
 ],
 "metadata": {
  "kernelspec": {
   "display_name": "Python 3 (ipykernel)",
   "language": "python",
   "name": "python3"
  },
  "language_info": {
   "codemirror_mode": {
    "name": "ipython",
    "version": 3
   },
   "file_extension": ".py",
   "mimetype": "text/x-python",
   "name": "python",
   "nbconvert_exporter": "python",
   "pygments_lexer": "ipython3",
   "version": "3.12.4"
  }
 },
 "nbformat": 4,
 "nbformat_minor": 5
}
